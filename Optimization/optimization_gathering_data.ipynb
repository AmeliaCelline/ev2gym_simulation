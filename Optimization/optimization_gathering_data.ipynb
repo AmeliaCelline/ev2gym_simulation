{
 "cells": [
  {
   "cell_type": "code",
   "execution_count": 3,
   "metadata": {},
   "outputs": [],
   "source": [
    "import numpy as np\n",
    "import pandas as pd\n",
    "import matplotlib.pyplot as plt\n",
    "from ev2gym.models.ev2gym_env import EV2Gym\n"
   ]
  },
  {
   "cell_type": "code",
   "execution_count": 23,
   "metadata": {},
   "outputs": [],
   "source": [
    "# gather data for forecasting purpose\n",
    "\n",
    "from ev2gym.baselines.heuristics import ChargeAsFastAsPossible\n",
    "\n",
    "config_file = \"optimization_for_forecast.yaml\"\n",
    "env_for_forecast = EV2Gym(config_file=config_file,\n",
    "              save_replay=False,\n",
    "              save_plots=False)\n",
    "\n",
    "\n",
    "# use random algo for the agent. We just want to gather the data of solar power and load for the previous 5 weekdays (last week)\n",
    "# look into optimization_for_forecast.yaml for more info\n",
    "agent = ChargeAsFastAsPossible()\n",
    "for t in range(env_for_forecast.simulation_length):\n",
    "    # get action\n",
    "    actions = agent.get_action(env_for_forecast)\n",
    "    env_for_forecast.step(actions)\n",
    "\n",
    "# this simulation assume 1 transformer which acts as the grid, so I can directly use an index of 0 below\n",
    "solar_power_last_week = env_for_forecast.tr_solar_power[0, :] * -1 # negative sign to make it positive.  because this simulator shows solar power as negative\n",
    "load_last_week = env_for_forecast.tr_inflexible_loads[0, :]\n",
    "\n",
    "# save this data into a csv file\n",
    "df = pd.DataFrame({'solar_power': solar_power_last_week, 'load': load_last_week})\n",
    "\n",
    "df.to_csv('data_for_forecast.csv', index=False)"
   ]
  }
 ],
 "metadata": {
  "kernelspec": {
   "display_name": "Python 3",
   "language": "python",
   "name": "python3"
  },
  "language_info": {
   "codemirror_mode": {
    "name": "ipython",
    "version": 3
   },
   "file_extension": ".py",
   "mimetype": "text/x-python",
   "name": "python",
   "nbconvert_exporter": "python",
   "pygments_lexer": "ipython3",
   "version": "3.12.3"
  }
 },
 "nbformat": 4,
 "nbformat_minor": 2
}
